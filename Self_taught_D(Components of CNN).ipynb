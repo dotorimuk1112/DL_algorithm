{
  "nbformat": 4,
  "nbformat_minor": 0,
  "metadata": {
    "colab": {
      "provenance": [],
      "authorship_tag": "ABX9TyPECkOMLMC1RVBiwNnFAPpe",
      "include_colab_link": true
    },
    "kernelspec": {
      "name": "python3",
      "display_name": "Python 3"
    },
    "language_info": {
      "name": "python"
    }
  },
  "cells": [
    {
      "cell_type": "markdown",
      "metadata": {
        "id": "view-in-github",
        "colab_type": "text"
      },
      "source": [
        "<a href=\"https://colab.research.google.com/github/dotorimuk1112/DL_self_taught/blob/main/Self_taught_D(Components%20of%20CNN).ipynb\" target=\"_parent\"><img src=\"https://colab.research.google.com/assets/colab-badge.svg\" alt=\"Open In Colab\"/></a>"
      ]
    },
    {
      "cell_type": "markdown",
      "source": [
        "# 합성곱 신경망"
      ],
      "metadata": {
        "id": "3sBoMt3gTAcK"
      }
    },
    {
      "cell_type": "code",
      "execution_count": 1,
      "metadata": {
        "colab": {
          "base_uri": "https://localhost:8080/"
        },
        "id": "4Dff5-ZpS4Yy",
        "outputId": "2abaf593-c05b-44ad-916c-eaa464c3ab56"
      },
      "outputs": [
        {
          "output_type": "execute_result",
          "data": {
            "text/plain": [
              "<keras.layers.convolutional.conv2d.Conv2D at 0x7f1f50018a60>"
            ]
          },
          "metadata": {},
          "execution_count": 1
        }
      ],
      "source": [
        "from tensorflow import keras\n",
        "keras.layers.Conv2D(10, kernel_size=(3, 3), activation='relu')"
      ]
    },
    {
      "cell_type": "code",
      "source": [
        "#@title 패딩과 스트라이드"
      ],
      "metadata": {
        "id": "ipx3e4_WTEIh"
      },
      "execution_count": 3,
      "outputs": []
    },
    {
      "cell_type": "code",
      "source": [
        "#패딩: 입력 배열의 주위를 가상의 원소로 채우는 것(입력과 특성 맵의 크기를 동일하게 만들기 위해서 시행함-세임패딩)"
      ],
      "metadata": {
        "id": "jtZjAl8cTwsK"
      },
      "execution_count": 4,
      "outputs": []
    },
    {
      "cell_type": "code",
      "source": [
        "keras.layers.Conv2D(10, kernel_size=(3, 3), activation='relu', padding='same')"
      ],
      "metadata": {
        "colab": {
          "base_uri": "https://localhost:8080/"
        },
        "id": "tThNESDwUmzZ",
        "outputId": "5bb4410f-b997-49a1-82ae-bf86985e3224"
      },
      "execution_count": 5,
      "outputs": [
        {
          "output_type": "execute_result",
          "data": {
            "text/plain": [
              "<keras.layers.convolutional.conv2d.Conv2D at 0x7f1ec5531040>"
            ]
          },
          "metadata": {},
          "execution_count": 5
        }
      ]
    },
    {
      "cell_type": "code",
      "source": [
        "#스트라이드: 커널의 이동 칸수(기본은 1이며 대부분 1을 사용)"
      ],
      "metadata": {
        "id": "34RbJUc4fsOQ"
      },
      "execution_count": null,
      "outputs": []
    },
    {
      "cell_type": "code",
      "source": [
        "keras.layers.Conv2D(10, kernel_size=(3, 3), activation='relu', padding='same', strides=1)"
      ],
      "metadata": {
        "colab": {
          "base_uri": "https://localhost:8080/"
        },
        "id": "tmZSL9X5Uo_x",
        "outputId": "06b93024-e650-469b-f3a5-f78c17a20215"
      },
      "execution_count": 6,
      "outputs": [
        {
          "output_type": "execute_result",
          "data": {
            "text/plain": [
              "<keras.layers.convolutional.conv2d.Conv2D at 0x7f1f500189d0>"
            ]
          },
          "metadata": {},
          "execution_count": 6
        }
      ]
    },
    {
      "cell_type": "code",
      "source": [
        "#@title 풀링: 특성맵의 가로세로 크기를 줄이는 것"
      ],
      "metadata": {
        "id": "czTgw5i0U2SJ"
      },
      "execution_count": 10,
      "outputs": []
    },
    {
      "cell_type": "code",
      "source": [
        "keras.layers.MaxPooling2D(2, strides=2, padding='valid')"
      ],
      "metadata": {
        "colab": {
          "base_uri": "https://localhost:8080/"
        },
        "id": "FSOwB2MkVlra",
        "outputId": "ac4de080-a8ea-4b42-f43c-bf54e22fe506"
      },
      "execution_count": 9,
      "outputs": [
        {
          "output_type": "execute_result",
          "data": {
            "text/plain": [
              "<keras.layers.pooling.max_pooling2d.MaxPooling2D at 0x7f1ec5531ac0>"
            ]
          },
          "metadata": {},
          "execution_count": 9
        }
      ]
    }
  ]
}